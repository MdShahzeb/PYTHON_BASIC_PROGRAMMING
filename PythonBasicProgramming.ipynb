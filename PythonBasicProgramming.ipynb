{
 "cells": [
  {
   "cell_type": "code",
   "execution_count": 64,
   "id": "b1208468",
   "metadata": {},
   "outputs": [
    {
     "data": {
      "text/plain": [
       "3"
      ]
     },
     "execution_count": 64,
     "metadata": {},
     "output_type": "execute_result"
    }
   ],
   "source": [
    "'''Question1\n",
    "Create a function that takes three integer arguments (a, b, c) and returns the amount of integers which are of equal value.'''\n",
    "def equal_value(a,b,c):\n",
    "    try:\n",
    "        if a==b==c:\n",
    "            return 3\n",
    "        if a==b or a==c or b==c:\n",
    "            return 2\n",
    "        else:\n",
    "            return 0\n",
    "    except Exception as e:\n",
    "        print(e)\n",
    "        \n",
    "        \n",
    "        \n",
    "equal_value(1,1,1)\n",
    "          "
   ]
  },
  {
   "cell_type": "code",
   "execution_count": 65,
   "id": "0f284fbe",
   "metadata": {},
   "outputs": [
    {
     "data": {
      "text/plain": [
       "2"
      ]
     },
     "execution_count": 65,
     "metadata": {},
     "output_type": "execute_result"
    }
   ],
   "source": [
    "equal_value(1,1,3)\n",
    "           "
   ]
  },
  {
   "cell_type": "code",
   "execution_count": 66,
   "id": "e04013c3",
   "metadata": {},
   "outputs": [
    {
     "data": {
      "text/plain": [
       "0"
      ]
     },
     "execution_count": 66,
     "metadata": {},
     "output_type": "execute_result"
    }
   ],
   "source": [
    "equal_value(1,2,3) "
   ]
  },
  {
   "cell_type": "code",
   "execution_count": 67,
   "id": "80e31456",
   "metadata": {},
   "outputs": [],
   "source": [
    "'''\n",
    "Question2\n",
    "Write a function that converts a dictionary into a list of keys-values tuples.\n",
    "'''\n",
    "\n",
    "def dict_to_list_of_tuples(dictionary):\n",
    "    l1=[]\n",
    "    l2=[]\n",
    "    l3=[]\n",
    "    for i in dictionary.keys():\n",
    "        l1.append(i)\n",
    "        l1.sort()\n",
    "    for j in dictionary.values():\n",
    "        l2.append(j)\n",
    "        l2.sort()\n",
    "    for i in range(len(l1)):\n",
    "        for j in range(len(l2)):\n",
    "            l3.append((l1[i],l2[j+i]))\n",
    "            break\n",
    "    return l3  "
   ]
  },
  {
   "cell_type": "code",
   "execution_count": 68,
   "id": "60d3d44a",
   "metadata": {},
   "outputs": [
    {
     "data": {
      "text/plain": [
       "[('dislikes', 2), ('followers', 3), ('likes', 10)]"
      ]
     },
     "execution_count": 68,
     "metadata": {},
     "output_type": "execute_result"
    }
   ],
   "source": [
    "dict_to_list_of_tuples({\n",
    "  \"likes\": 2,\n",
    "  \"dislikes\": 3,\n",
    "  \"followers\": 10\n",
    "})"
   ]
  },
  {
   "cell_type": "code",
   "execution_count": 69,
   "id": "cc301037",
   "metadata": {},
   "outputs": [],
   "source": [
    "'''Question3\n",
    "Write a function that creates a dictionary with each (key, value) pair being the (lower case, upper case) versions of a letter,\n",
    "respectively.\n",
    "'''\n",
    "\n",
    "def lowercase_Uppercase_dict(input_list):\n",
    "    l1=[]\n",
    "    l2=[]\n",
    "   \n",
    "    for i in range(len(input_list)):\n",
    "        l1.append(input_list[i].upper())\n",
    "        \n",
    "    for i in range(len(l1)):\n",
    "        l2.append((input_list[i],l1[i]))\n",
    "        \n",
    "        \n",
    "        \n",
    "    return dict(l2)    \n",
    "        \n",
    "        \n",
    "        \n",
    "        \n",
    "    \n",
    "    \n"
   ]
  },
  {
   "cell_type": "code",
   "execution_count": 70,
   "id": "fb0c9282",
   "metadata": {},
   "outputs": [
    {
     "data": {
      "text/plain": [
       "{'a': 'A', 'b': 'B', 'd': 'D', 'e': 'E'}"
      ]
     },
     "execution_count": 70,
     "metadata": {},
     "output_type": "execute_result"
    }
   ],
   "source": [
    "lowercase_Uppercase_dict(['a','b','d','e'])"
   ]
  },
  {
   "cell_type": "code",
   "execution_count": 71,
   "id": "bf9b8825",
   "metadata": {},
   "outputs": [],
   "source": [
    "'''Question4\n",
    "Write a function, that replaces all vowels in a string with a specified vowel.\n",
    "'''\n",
    "\n",
    "def replace_vowel(input_string,ch):\n",
    "    vowel='AEIOUaeiou'\n",
    "    l1=[]\n",
    "    for i in range(len(input_string)):\n",
    "        if input_string[i] in vowel:\n",
    "            l1.append(ch)\n",
    "        else:\n",
    "            l1.append(input_string[i])\n",
    "    return ''.join(l1)        \n",
    "   "
   ]
  },
  {
   "cell_type": "code",
   "execution_count": 72,
   "id": "2cf97d77",
   "metadata": {},
   "outputs": [
    {
     "data": {
      "text/plain": [
       "'my nomo os shohzob'"
      ]
     },
     "execution_count": 72,
     "metadata": {},
     "output_type": "execute_result"
    }
   ],
   "source": [
    "replace_vowel(\"my name is shahzeb\",'o')"
   ]
  },
  {
   "cell_type": "code",
   "execution_count": 73,
   "id": "bfe65725",
   "metadata": {},
   "outputs": [
    {
     "data": {
      "text/plain": [
       "'Question5\\nCreate a function that takes a string as input and capitalizes a letter if its ASCII code is even and returns its lower case\\nversion if its ASCII code is odd.\\n'"
      ]
     },
     "execution_count": 73,
     "metadata": {},
     "output_type": "execute_result"
    }
   ],
   "source": [
    "'''Question5\n",
    "Create a function that takes a string as input and capitalizes a letter if its ASCII code is even and returns its lower case\n",
    "version if its ASCII code is odd.\n",
    "'''\n",
    "\n",
    "\n"
   ]
  },
  {
   "cell_type": "code",
   "execution_count": 74,
   "id": "85cd5fe7",
   "metadata": {},
   "outputs": [],
   "source": [
    "def Ascii_capitalize(s):\n",
    "    l1=[]\n",
    "    for i in range(len(s)):\n",
    "        if ord(s[i])%2==0:\n",
    "            l1.append(s[i].upper())\n",
    "        else:\n",
    "            l1.append(s[i].lower())\n",
    "            \n",
    "    return ''.join(l1)"
   ]
  },
  {
   "cell_type": "code",
   "execution_count": 75,
   "id": "d6326e0e",
   "metadata": {},
   "outputs": [
    {
     "data": {
      "text/plain": [
       "'my Name is sHaHZeB'"
      ]
     },
     "execution_count": 75,
     "metadata": {},
     "output_type": "execute_result"
    }
   ],
   "source": [
    "Ascii_capitalize(\"My NamE is Shahzeb\")\n",
    "  \n",
    "  "
   ]
  }
 ],
 "metadata": {
  "kernelspec": {
   "display_name": "Python 3",
   "language": "python",
   "name": "python3"
  },
  "language_info": {
   "codemirror_mode": {
    "name": "ipython",
    "version": 3
   },
   "file_extension": ".py",
   "mimetype": "text/x-python",
   "name": "python",
   "nbconvert_exporter": "python",
   "pygments_lexer": "ipython3",
   "version": "3.8.8"
  }
 },
 "nbformat": 4,
 "nbformat_minor": 5
}
